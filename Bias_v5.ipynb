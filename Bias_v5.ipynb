{
 "cells": [
  {
   "cell_type": "markdown",
   "metadata": {},
   "source": [
    "Author: IP Wing Yan\n",
    "\n",
    "Date: 16 May 2021"
   ]
  },
  {
   "cell_type": "code",
   "execution_count": 1,
   "metadata": {},
   "outputs": [],
   "source": [
    "import numpy as np\n",
    "import pandas as pd\n",
    "from gensim.models import KeyedVectors\n",
    "import matplotlib.pyplot as plt"
   ]
  },
  {
   "cell_type": "markdown",
   "metadata": {},
   "source": [
    "## Prepare Professions Words"
   ]
  },
  {
   "cell_type": "code",
   "execution_count": 2,
   "metadata": {},
   "outputs": [],
   "source": [
    "job_list = pd.read_excel(\"occupation_word_list.xlsx\")"
   ]
  },
  {
   "cell_type": "code",
   "execution_count": 3,
   "metadata": {
    "scrolled": true
   },
   "outputs": [
    {
     "data": {
      "text/html": [
       "<div>\n",
       "<style scoped>\n",
       "    .dataframe tbody tr th:only-of-type {\n",
       "        vertical-align: middle;\n",
       "    }\n",
       "\n",
       "    .dataframe tbody tr th {\n",
       "        vertical-align: top;\n",
       "    }\n",
       "\n",
       "    .dataframe thead th {\n",
       "        text-align: right;\n",
       "    }\n",
       "</style>\n",
       "<table border=\"1\" class=\"dataframe\">\n",
       "  <thead>\n",
       "    <tr style=\"text-align: right;\">\n",
       "      <th></th>\n",
       "      <th>occupations</th>\n",
       "    </tr>\n",
       "  </thead>\n",
       "  <tbody>\n",
       "    <tr>\n",
       "      <th>0</th>\n",
       "      <td>accountant</td>\n",
       "    </tr>\n",
       "    <tr>\n",
       "      <th>1</th>\n",
       "      <td>actor</td>\n",
       "    </tr>\n",
       "    <tr>\n",
       "      <th>2</th>\n",
       "      <td>actress</td>\n",
       "    </tr>\n",
       "    <tr>\n",
       "      <th>3</th>\n",
       "      <td>air traffic controller</td>\n",
       "    </tr>\n",
       "    <tr>\n",
       "      <th>4</th>\n",
       "      <td>architect</td>\n",
       "    </tr>\n",
       "    <tr>\n",
       "      <th>...</th>\n",
       "      <td>...</td>\n",
       "    </tr>\n",
       "    <tr>\n",
       "      <th>365</th>\n",
       "      <td>writer</td>\n",
       "    </tr>\n",
       "    <tr>\n",
       "      <th>366</th>\n",
       "      <td>xylophonist</td>\n",
       "    </tr>\n",
       "    <tr>\n",
       "      <th>367</th>\n",
       "      <td>yodeler</td>\n",
       "    </tr>\n",
       "    <tr>\n",
       "      <th>368</th>\n",
       "      <td>zookeeper</td>\n",
       "    </tr>\n",
       "    <tr>\n",
       "      <th>369</th>\n",
       "      <td>zoologist</td>\n",
       "    </tr>\n",
       "  </tbody>\n",
       "</table>\n",
       "<p>370 rows × 1 columns</p>\n",
       "</div>"
      ],
      "text/plain": [
       "                occupations\n",
       "0                accountant\n",
       "1                     actor\n",
       "2                   actress\n",
       "3    air traffic controller\n",
       "4                 architect\n",
       "..                      ...\n",
       "365                  writer\n",
       "366             xylophonist\n",
       "367                 yodeler\n",
       "368               zookeeper\n",
       "369               zoologist\n",
       "\n",
       "[370 rows x 1 columns]"
      ]
     },
     "execution_count": 3,
     "metadata": {},
     "output_type": "execute_result"
    }
   ],
   "source": [
    "job_list"
   ]
  },
  {
   "cell_type": "code",
   "execution_count": 4,
   "metadata": {},
   "outputs": [],
   "source": [
    "cleaned_job_list = job_list[job_list.occupations.str.count(' ')==0].drop_duplicates()"
   ]
  },
  {
   "cell_type": "code",
   "execution_count": 5,
   "metadata": {},
   "outputs": [],
   "source": [
    "# from gensim.scripts.glove2word2vec import glove2word2vec\n",
    "# glove2word2vec(glove_input_file=\"glove.840B.300d.txt\", word2vec_output_file=\"glove.txt\")\n",
    "\n",
    "# To load the downloaded glove word embedding in w2v format, which may take some times...\n",
    "glove = KeyedVectors.load_word2vec_format(\"glove.txt\", binary=False)"
   ]
  },
  {
   "cell_type": "code",
   "execution_count": 6,
   "metadata": {},
   "outputs": [
    {
     "data": {
      "text/plain": [
       "287"
      ]
     },
     "execution_count": 6,
     "metadata": {},
     "output_type": "execute_result"
    }
   ],
   "source": [
    "processed_job_list = []\n",
    "\n",
    "for x in cleaned_job_list.occupations:\n",
    "    if x in glove: processed_job_list.append(x)\n",
    "        \n",
    "len(processed_job_list)"
   ]
  },
  {
   "cell_type": "markdown",
   "metadata": {},
   "source": [
    "## Functions for later usage:"
   ]
  },
  {
   "cell_type": "code",
   "execution_count": 7,
   "metadata": {},
   "outputs": [],
   "source": [
    "def bias_direction(bias1, bias2):\n",
    "    \"\"\"\n",
    "    Returns the two normalized vector directions and a normalized bias direction\n",
    "    \"\"\"\n",
    "    \n",
    "    twomeans = [sum(glove[w] for w in word)/len(word) for word in (bias1, bias2)]\n",
    "    vec_directions = [v / np.linalg.norm(v) for v in twomeans]\n",
    "    vB = vec_directions[0] - vec_directions[1]\n",
    "    fin_vB = vB / np.linalg.norm(vB)\n",
    "    \n",
    "    return vec_directions[0], vec_directions[1], fin_vB"
   ]
  },
  {
   "cell_type": "code",
   "execution_count": 8,
   "metadata": {},
   "outputs": [],
   "source": [
    "def cos_sim(a, b):\n",
    "    \"\"\"\n",
    "    Returns cosine similarity between two vectors\n",
    "    \"\"\"\n",
    "    return np.dot(a, b)/(np.linalg.norm(a)*np.linalg.norm(b))"
   ]
  },
  {
   "cell_type": "code",
   "execution_count": 9,
   "metadata": {},
   "outputs": [],
   "source": [
    "def association(w, A, B):\n",
    "    \"\"\"\n",
    "    Returns association of a target word w with attribute words, i.e. s(w, A, B)\n",
    "    w: one target word vector\n",
    "    A: attribute word vectors\n",
    "    B: attribute word vectors\n",
    "    \"\"\"\n",
    "    return np.mean(list(map(lambda a: cos_sim(w,a), A))) - np.mean(list(map(lambda b: cos_sim(w,b), B)))"
   ]
  },
  {
   "cell_type": "code",
   "execution_count": 10,
   "metadata": {},
   "outputs": [],
   "source": [
    "def weat_nscore(X, Y, A, B):\n",
    "    \"\"\"\n",
    "    Returns normalized WEAT score\n",
    "    X: target word vectors\n",
    "    Y: target word vectors\n",
    "    A: attribute word vectors\n",
    "    B: attribute word vectors\n",
    "\n",
    "    \"\"\"\n",
    "    \n",
    "    X_association = np.array(list(map(lambda x : association(x, A, B), X)))\n",
    "    Y_association = np.array(list(map(lambda y : association(y, A, B), Y)))\n",
    "                         \n",
    "    mean_diff = np.mean(X_association) - np.mean(Y_association)   \n",
    "    std = np.std(np.concatenate((X_association, Y_association)))\n",
    "\n",
    "    return mean_diff / std"
   ]
  },
  {
   "cell_type": "code",
   "execution_count": 11,
   "metadata": {},
   "outputs": [],
   "source": [
    "def linear_projection(u,v):\n",
    "    \"\"\"\n",
    "    Returns a debiased word vector\n",
    "    u: the word vector\n",
    "    v: the bias direction\n",
    "    \"\"\"\n",
    "    \n",
    "    u = u - np.dot(u,v)*v\n",
    "    \n",
    "    return u"
   ]
  },
  {
   "cell_type": "markdown",
   "metadata": {},
   "source": [
    "# Part 1: Gender Bias"
   ]
  },
  {
   "cell_type": "markdown",
   "metadata": {},
   "source": [
    "## Step 1: Define Gender Direction"
   ]
  },
  {
   "cell_type": "code",
   "execution_count": 12,
   "metadata": {},
   "outputs": [],
   "source": [
    "# We will use the he-she word pair as proposed by Bolukbasi et al (2016)\n",
    "v_he, v_she, vB_gender = bias_direction(['he'], ['she'])"
   ]
  },
  {
   "cell_type": "markdown",
   "metadata": {},
   "source": [
    "## Step 2: Visualization for Gender Bias"
   ]
  },
  {
   "cell_type": "code",
   "execution_count": 13,
   "metadata": {},
   "outputs": [
    {
     "data": {
      "text/plain": [
       "judge         0.481602\n",
       "doctor        0.467547\n",
       "president     0.458380\n",
       "soldier       0.446679\n",
       "teacher       0.443727\n",
       "politician    0.443103\n",
       "captain       0.437806\n",
       "cop           0.431660\n",
       "policeman     0.422934\n",
       "professor     0.415242\n",
       "Name: he, dtype: float64"
      ]
     },
     "execution_count": 13,
     "metadata": {},
     "output_type": "execute_result"
    }
   ],
   "source": [
    "# find out 10 most he-positive-extreme occupation words \n",
    "htemp = []\n",
    "\n",
    "for x in processed_job_list:\n",
    "    htemp.append(cos_sim(v_he, glove[x]))\n",
    "\n",
    "he = pd.Series(htemp, index=processed_job_list, name='he')\n",
    "he.nlargest(n=10)"
   ]
  },
  {
   "cell_type": "code",
   "execution_count": 14,
   "metadata": {},
   "outputs": [
    {
     "data": {
      "text/plain": [
       "nurse       0.513825\n",
       "teacher     0.512202\n",
       "doctor      0.509170\n",
       "actress     0.497068\n",
       "waitress    0.460631\n",
       "judge       0.448580\n",
       "singer      0.439919\n",
       "dancer      0.438895\n",
       "student     0.425599\n",
       "maid        0.418461\n",
       "Name: she, dtype: float64"
      ]
     },
     "execution_count": 14,
     "metadata": {},
     "output_type": "execute_result"
    }
   ],
   "source": [
    "# find out 10 most she-positive-extreme occupation words \n",
    "stemp = []\n",
    "\n",
    "for x in processed_job_list:\n",
    "    stemp.append(cos_sim(v_she, glove[x]))\n",
    "\n",
    "she = pd.Series(stemp, index=processed_job_list, name='she')\n",
    "she.nlargest(n=10)"
   ]
  },
  {
   "cell_type": "code",
   "execution_count": 15,
   "metadata": {},
   "outputs": [],
   "source": [
    "dots = list(set(he.nlargest(n=10).index) | set(she.nlargest(n=10).index))\n",
    "scatter = pd.concat([he,she], axis=1).loc[dots]\n",
    "scatter['bias'] = np.where(scatter.he > scatter.she, 'blue', 'red')"
   ]
  },
  {
   "cell_type": "code",
   "execution_count": 16,
   "metadata": {},
   "outputs": [],
   "source": [
    "# To be visually fair and clear, we choose five bias=red and five bias=blue to plot\n",
    "chosen_job1 = ['nurse', 'actress', 'waitress', 'dancer', 'maid', 'judge', 'cop', 'president', 'politician', 'captain']\n",
    "scatter=scatter.loc[chosen_job1]"
   ]
  },
  {
   "cell_type": "code",
   "execution_count": 17,
   "metadata": {},
   "outputs": [
    {
     "data": {
      "image/png": "[encoded data removed]",
      "text/plain": [
       "<Figure size 576x576 with 1 Axes>"
      ]
     },
     "metadata": {
      "needs_background": "light"
     },
     "output_type": "display_data"
    }
   ],
   "source": [
    "x = scatter.he\n",
    "y = scatter.she\n",
    "\n",
    "plt.figure(figsize=(8,8))\n",
    "plt.scatter(x, y, c=scatter.bias)\n",
    "plt.xlabel(\"he\")\n",
    "plt.ylabel(\"she\")\n",
    "plt.xlim(0.1, 0.6)\n",
    "plt.ylim(0.1, 0.6)\n",
    "plt.axline([0,0],[1,1])\n",
    "\n",
    "for i, txt in enumerate(scatter.index):\n",
    "    plt.annotate(txt, (x[i], y[i]))"
   ]
  },
  {
   "cell_type": "markdown",
   "metadata": {},
   "source": [
    "## Step 3: WEAT for Gender Bias"
   ]
  },
  {
   "cell_type": "markdown",
   "metadata": {},
   "source": [
    "**Target words:**\n",
    "\n",
    "Male names: John, Paul, Mike, Kevin, Steve, Greg, Jeff, Bill\n",
    "\n",
    "Female names: Amy, Joan, Lisa, Sarah, Diana, Kate, Ann, Donna\n",
    "    \n",
    "**Attrib. words:**\n",
    "\n",
    "Career words : executive, management, professional, corporation, salary, office, business, career\n",
    "\n",
    "Family words : home, parents, children, family, cousins, marriage, wedding, relatives"
   ]
  },
  {
   "cell_type": "code",
   "execution_count": 18,
   "metadata": {},
   "outputs": [
    {
     "data": {
      "text/plain": [
       "8"
      ]
     },
     "execution_count": 18,
     "metadata": {},
     "output_type": "execute_result"
    }
   ],
   "source": [
    "male_names = pd.read_excel(\"male_name.xlsx\", names=['name'], header=None)\n",
    "male_name_words = [w for w in male_names.name if w in glove]\n",
    "len(male_name_words)"
   ]
  },
  {
   "cell_type": "code",
   "execution_count": 19,
   "metadata": {},
   "outputs": [
    {
     "data": {
      "text/plain": [
       "8"
      ]
     },
     "execution_count": 19,
     "metadata": {},
     "output_type": "execute_result"
    }
   ],
   "source": [
    "female_names = pd.read_excel(\"female_name.xlsx\", names=['name'], header=None)\n",
    "female_name_words = [w for w in female_names.name if w in glove]\n",
    "len(female_name_words)"
   ]
  },
  {
   "cell_type": "code",
   "execution_count": 20,
   "metadata": {},
   "outputs": [
    {
     "data": {
      "text/plain": [
       "8"
      ]
     },
     "execution_count": 20,
     "metadata": {},
     "output_type": "execute_result"
    }
   ],
   "source": [
    "careers = pd.read_excel(\"career.xlsx\", names=['career'], header=None)\n",
    "career_words = [w for w in careers.career if w in glove]\n",
    "len(career_words)"
   ]
  },
  {
   "cell_type": "code",
   "execution_count": 21,
   "metadata": {},
   "outputs": [
    {
     "data": {
      "text/plain": [
       "8"
      ]
     },
     "execution_count": 21,
     "metadata": {},
     "output_type": "execute_result"
    }
   ],
   "source": [
    "family = pd.read_excel(\"family.xlsx\", names=['family'], header=None)\n",
    "family_words = [w for w in family.family if w in glove]\n",
    "len(family_words)"
   ]
  },
  {
   "cell_type": "code",
   "execution_count": 22,
   "metadata": {},
   "outputs": [
    {
     "data": {
      "text/plain": [
       "1.8734031"
      ]
     },
     "execution_count": 22,
     "metadata": {},
     "output_type": "execute_result"
    }
   ],
   "source": [
    "weat_nscore(glove[male_name_words], glove[female_name_words], glove[career_words], glove[family_words])"
   ]
  },
  {
   "cell_type": "markdown",
   "metadata": {},
   "source": [
    "## Step 4: Debiasing for Gender and Repeat Step 2 & 3"
   ]
  },
  {
   "cell_type": "code",
   "execution_count": 23,
   "metadata": {},
   "outputs": [],
   "source": [
    "debiased_job1 = []\n",
    "gender_neutral_job = list(set(chosen_job1) - set(['actress','maid','waitress']))\n",
    "for w in gender_neutral_job:\n",
    "    debiased_job1.append(linear_projection(glove[w], vB_gender))"
   ]
  },
  {
   "cell_type": "code",
   "execution_count": 24,
   "metadata": {},
   "outputs": [],
   "source": [
    "htemp = []\n",
    "\n",
    "for x in debiased_job1:\n",
    "    htemp.append(cos_sim(glove['he'], x))\n",
    "                 \n",
    "he = pd.Series(htemp, index=gender_neutral_job, name='he')"
   ]
  },
  {
   "cell_type": "code",
   "execution_count": 25,
   "metadata": {},
   "outputs": [],
   "source": [
    "stemp = []\n",
    "\n",
    "for x in debiased_job1:\n",
    "    stemp.append(cos_sim(glove['she'], x))\n",
    "                 \n",
    "she = pd.Series(stemp, index=gender_neutral_job, name='she')"
   ]
  },
  {
   "cell_type": "code",
   "execution_count": 26,
   "metadata": {},
   "outputs": [],
   "source": [
    "de_scatter = pd.concat([he,she], axis=1)\n",
    "de_scatter['bias'] = np.where(de_scatter.he > de_scatter.she, 'blue', 'red')\n",
    "new_scatter = pd.concat([de_scatter, scatter.loc[['actress','maid','waitress']]], axis=0)"
   ]
  },
  {
   "cell_type": "code",
   "execution_count": 27,
   "metadata": {},
   "outputs": [
    {
     "data": {
      "image/png": "[encoded data removed]",
      "text/plain": [
       "<Figure size 576x576 with 1 Axes>"
      ]
     },
     "metadata": {
      "needs_background": "light"
     },
     "output_type": "display_data"
    }
   ],
   "source": [
    "x = new_scatter.he\n",
    "y = new_scatter.she\n",
    "\n",
    "plt.figure(figsize=(8,8))\n",
    "plt.scatter(x, y, c=new_scatter.bias)\n",
    "plt.xlabel(\"he\")\n",
    "plt.ylabel(\"she\")\n",
    "plt.xlim(0.2, 0.6)\n",
    "plt.ylim(0.2, 0.6)\n",
    "plt.axline([0,0],[1,1])\n",
    "\n",
    "for i, txt in enumerate(new_scatter.index):\n",
    "    plt.annotate(txt, (x[i], y[i]))"
   ]
  },
  {
   "cell_type": "code",
   "execution_count": 28,
   "metadata": {},
   "outputs": [],
   "source": [
    "debiased_careers = []\n",
    "\n",
    "for w in career_words:\n",
    "    debiased_careers.append(linear_projection(glove[w], vB_gender))"
   ]
  },
  {
   "cell_type": "code",
   "execution_count": 29,
   "metadata": {},
   "outputs": [],
   "source": [
    "debiased_family = []\n",
    "\n",
    "for w in family_words:\n",
    "    debiased_family.append(linear_projection(glove[w], vB_gender))"
   ]
  },
  {
   "cell_type": "code",
   "execution_count": 30,
   "metadata": {},
   "outputs": [
    {
     "data": {
      "text/plain": [
       "1.372129"
      ]
     },
     "execution_count": 30,
     "metadata": {},
     "output_type": "execute_result"
    }
   ],
   "source": [
    "weat_nscore(glove[male_name_words], glove[female_name_words], debiased_careers, debiased_family)"
   ]
  },
  {
   "cell_type": "markdown",
   "metadata": {},
   "source": [
    "# Part 2: Racial Bias"
   ]
  },
  {
   "cell_type": "markdown",
   "metadata": {},
   "source": [
    "## Step 1:Define Race Direction"
   ]
  },
  {
   "cell_type": "markdown",
   "metadata": {},
   "source": [
    "Since we cannot necessarily find good word pairs to indicate a direction for other kinds of bias,\n",
    "we may resort to using names as suggested by Dev(2019).\n",
    "Different racial groups tend to use certain names more --> reasonable\n",
    "\n",
    "European American names: Brad, Brendan, Geoffrey, Greg, Brett, Jay, Matthew, Neil, Todd, Allison, Anne, Carrie, Emily, Jill, Laurie, Kristen, Meredith, Sarah\n",
    "\n",
    "African American names: Darnell, Hakim, Jermaine, Kareem, Jamal, Leroy, Rasheed, Tremayne, Tyrone, Aisha, Ebony, Keisha, Kenya, Latonya, Lakisha, Latoya, Tamika, Tanisha "
   ]
  },
  {
   "cell_type": "code",
   "execution_count": 31,
   "metadata": {},
   "outputs": [
    {
     "data": {
      "text/plain": [
       "18"
      ]
     },
     "execution_count": 31,
     "metadata": {},
     "output_type": "execute_result"
    }
   ],
   "source": [
    "EuroAmerName = pd.read_excel(\"EuroNames.xlsx\", names=['name'], header=None)\n",
    "EuroAmerNameWords = [w for w in EuroAmerName.name if w in glove]\n",
    "len(EuroAmerNameWords)"
   ]
  },
  {
   "cell_type": "code",
   "execution_count": 32,
   "metadata": {},
   "outputs": [
    {
     "data": {
      "text/plain": [
       "18"
      ]
     },
     "execution_count": 32,
     "metadata": {},
     "output_type": "execute_result"
    }
   ],
   "source": [
    "AfrAmerName = pd.read_excel(\"AfrNames.xlsx\", names=['name'], header=None)\n",
    "AfrAmerNameWords = [w for w in AfrAmerName.name if w in glove]\n",
    "len(AfrAmerNameWords)"
   ]
  },
  {
   "cell_type": "code",
   "execution_count": 33,
   "metadata": {},
   "outputs": [],
   "source": [
    "# Determine the bias direction, which encodes the racial difference\n",
    "v_euro, v_afr, vB_racial = bias_direction(EuroAmerNameWords, AfrAmerNameWords)"
   ]
  },
  {
   "cell_type": "markdown",
   "metadata": {},
   "source": [
    "## Step 2: Visualization for Racial Bias"
   ]
  },
  {
   "cell_type": "code",
   "execution_count": 34,
   "metadata": {},
   "outputs": [
    {
     "data": {
      "text/plain": [
       "author        0.465899\n",
       "director      0.454183\n",
       "writer        0.453935\n",
       "professor     0.412403\n",
       "actor         0.404513\n",
       "actress       0.401434\n",
       "singer        0.400027\n",
       "journalist    0.390697\n",
       "reporter      0.385549\n",
       "artist        0.377582\n",
       "Name: EuroAmer, dtype: float64"
      ]
     },
     "execution_count": 34,
     "metadata": {},
     "output_type": "execute_result"
    }
   ],
   "source": [
    "# find out 10 most EuroAmer-positive-extreme occupation words \n",
    "etemp = []\n",
    "\n",
    "for x in processed_job_list:\n",
    "    etemp.append(cos_sim(v_euro, glove[x]))\n",
    "    \n",
    "EuroAmer = pd.Series(etemp, index=processed_job_list, name='EuroAmer')\n",
    "EuroAmer.nlargest(n=10)"
   ]
  },
  {
   "cell_type": "code",
   "execution_count": 35,
   "metadata": {},
   "outputs": [
    {
     "data": {
      "text/plain": [
       "saxophonist      0.285134\n",
       "singer           0.268677\n",
       "percussionist    0.267285\n",
       "socialite        0.266445\n",
       "harpist          0.243948\n",
       "quarterback      0.240530\n",
       "flutist          0.240256\n",
       "dancer           0.236925\n",
       "policewoman      0.234511\n",
       "actress          0.217354\n",
       "Name: AfrAmer, dtype: float64"
      ]
     },
     "execution_count": 35,
     "metadata": {},
     "output_type": "execute_result"
    }
   ],
   "source": [
    "# find out 10 most AfrAmer-positive-extreme occupation words \n",
    "atemp = []\n",
    "\n",
    "for x in processed_job_list:\n",
    "    atemp.append(cos_sim(v_afr, glove[x]))\n",
    "    \n",
    "AfrAmer = pd.Series(atemp, index=processed_job_list, name='AfrAmer')\n",
    "AfrAmer.nlargest(n=10)"
   ]
  },
  {
   "cell_type": "code",
   "execution_count": 36,
   "metadata": {},
   "outputs": [],
   "source": [
    "dots = list(set(EuroAmer.nlargest(n=10).index) | set(AfrAmer.nlargest(n=10).index))\n",
    "scatter = pd.concat([EuroAmer,AfrAmer], axis=1).loc[dots]\n",
    "scatter['bias'] = np.where(scatter.EuroAmer > scatter.AfrAmer, 'blue', 'red')"
   ]
  },
  {
   "cell_type": "code",
   "execution_count": 37,
   "metadata": {},
   "outputs": [],
   "source": [
    "# To be visually fair and clear, we choose four bias=red and four bias=blue to plot\n",
    "chosen_job2 = ['policewoman', 'flutist', 'socialite', 'saxophonist', 'author', 'director', 'professor', 'journalist']\n",
    "scatter=scatter.loc[chosen_job2]"
   ]
  },
  {
   "cell_type": "code",
   "execution_count": 38,
   "metadata": {},
   "outputs": [
    {
     "data": {
      "image/png": "[encoded data removed]",
      "text/plain": [
       "<Figure size 576x576 with 1 Axes>"
      ]
     },
     "metadata": {
      "needs_background": "light"
     },
     "output_type": "display_data"
    }
   ],
   "source": [
    "x = scatter.EuroAmer\n",
    "y = scatter.AfrAmer\n",
    "\n",
    "plt.figure(figsize=(8,8))\n",
    "plt.scatter(x, y, c=scatter.bias)\n",
    "plt.xlabel(\"EuroAmer\")\n",
    "plt.ylabel(\"AfrAmer\")\n",
    "plt.xlim(0, 0.5)\n",
    "plt.ylim(0, 0.5)\n",
    "plt.axline([0,0],[1,1])\n",
    "\n",
    "for i, txt in enumerate(scatter.index):\n",
    "    plt.annotate(txt, (x[i], y[i]))"
   ]
  },
  {
   "cell_type": "markdown",
   "metadata": {},
   "source": [
    "## Step 3: WEAT for Racial Bias"
   ]
  },
  {
   "cell_type": "markdown",
   "metadata": {},
   "source": [
    "**Target words:**\n",
    "\n",
    "European American names as defined above\n",
    "\n",
    "African American names as defined above\n",
    "\n",
    "**Attrib. words:**\n",
    "\n",
    "Pleasant: caress, freedom, health, love, peace, cheer, friend, heaven, loyal, pleasure, diamond,\n",
    "gentle, honest, lucky, rainbow, diploma, gift, honor, miracle, sunrise, family,\n",
    "happy, laughter, paradise, vacation\n",
    "\n",
    "Unpleasant: abuse, crash, filth, murder, sickness, accident, death, grief, poison, stink,\n",
    "assault, disaster, hatred, pollute, tragedy, bomb, divorce, jail, poverty, ugly, cancer, evil,\n",
    "kill, rotten, vomit\n"
   ]
  },
  {
   "cell_type": "code",
   "execution_count": 39,
   "metadata": {},
   "outputs": [
    {
     "data": {
      "text/plain": [
       "25"
      ]
     },
     "execution_count": 39,
     "metadata": {},
     "output_type": "execute_result"
    }
   ],
   "source": [
    "pleasant = pd.read_excel(\"pleasant.xlsx\", names=['ple'], header=None)\n",
    "pleasant_words = [w for w in pleasant.ple if w in glove]\n",
    "len(pleasant_words)"
   ]
  },
  {
   "cell_type": "code",
   "execution_count": 40,
   "metadata": {},
   "outputs": [
    {
     "data": {
      "text/plain": [
       "25"
      ]
     },
     "execution_count": 40,
     "metadata": {},
     "output_type": "execute_result"
    }
   ],
   "source": [
    "unpleasant = pd.read_excel(\"unpleasant.xlsx\", names=['unple'], header=None)\n",
    "unpleasant_words = [w for w in unpleasant.unple if w in glove]\n",
    "len(unpleasant_words)"
   ]
  },
  {
   "cell_type": "code",
   "execution_count": 41,
   "metadata": {},
   "outputs": [
    {
     "data": {
      "text/plain": [
       "1.5777843"
      ]
     },
     "execution_count": 41,
     "metadata": {},
     "output_type": "execute_result"
    }
   ],
   "source": [
    "weat_nscore(glove[EuroAmerNameWords], glove[AfrAmerNameWords], glove[pleasant_words], glove[unpleasant_words])"
   ]
  },
  {
   "cell_type": "markdown",
   "metadata": {},
   "source": [
    "## Step 4: Debiasing for Race and Repeat Step 2 & 3"
   ]
  },
  {
   "cell_type": "code",
   "execution_count": 42,
   "metadata": {},
   "outputs": [],
   "source": [
    "debiased_job2 = []\n",
    "\n",
    "for w in chosen_job2:\n",
    "    debiased_job2.append(linear_projection(glove[w], vB_racial))"
   ]
  },
  {
   "cell_type": "code",
   "execution_count": 43,
   "metadata": {},
   "outputs": [],
   "source": [
    "etemp = []\n",
    "\n",
    "for x in debiased_job2:\n",
    "    etemp.append(cos_sim(v_euro, x))\n",
    "    \n",
    "EuroAmer = pd.Series(etemp, index=chosen_job2, name='EuroAmer')"
   ]
  },
  {
   "cell_type": "code",
   "execution_count": 44,
   "metadata": {},
   "outputs": [],
   "source": [
    "atemp = []\n",
    "\n",
    "for x in debiased_job2:\n",
    "    atemp.append(cos_sim(v_afr, x))\n",
    "\n",
    "AfrAmer = pd.Series(atemp, index=chosen_job2, name='AfrAmer')"
   ]
  },
  {
   "cell_type": "code",
   "execution_count": 45,
   "metadata": {},
   "outputs": [
    {
     "data": {
      "text/html": [
       "<div>\n",
       "<style scoped>\n",
       "    .dataframe tbody tr th:only-of-type {\n",
       "        vertical-align: middle;\n",
       "    }\n",
       "\n",
       "    .dataframe tbody tr th {\n",
       "        vertical-align: top;\n",
       "    }\n",
       "\n",
       "    .dataframe thead th {\n",
       "        text-align: right;\n",
       "    }\n",
       "</style>\n",
       "<table border=\"1\" class=\"dataframe\">\n",
       "  <thead>\n",
       "    <tr style=\"text-align: right;\">\n",
       "      <th></th>\n",
       "      <th>EuroAmer</th>\n",
       "      <th>AfrAmer</th>\n",
       "      <th>bias</th>\n",
       "    </tr>\n",
       "  </thead>\n",
       "  <tbody>\n",
       "    <tr>\n",
       "      <th>policewoman</th>\n",
       "      <td>0.136320</td>\n",
       "      <td>0.136320</td>\n",
       "      <td>red</td>\n",
       "    </tr>\n",
       "    <tr>\n",
       "      <th>flutist</th>\n",
       "      <td>0.214181</td>\n",
       "      <td>0.214181</td>\n",
       "      <td>blue</td>\n",
       "    </tr>\n",
       "    <tr>\n",
       "      <th>socialite</th>\n",
       "      <td>0.250512</td>\n",
       "      <td>0.250512</td>\n",
       "      <td>red</td>\n",
       "    </tr>\n",
       "    <tr>\n",
       "      <th>saxophonist</th>\n",
       "      <td>0.262608</td>\n",
       "      <td>0.262608</td>\n",
       "      <td>blue</td>\n",
       "    </tr>\n",
       "    <tr>\n",
       "      <th>author</th>\n",
       "      <td>0.298017</td>\n",
       "      <td>0.298017</td>\n",
       "      <td>blue</td>\n",
       "    </tr>\n",
       "    <tr>\n",
       "      <th>director</th>\n",
       "      <td>0.300984</td>\n",
       "      <td>0.300984</td>\n",
       "      <td>blue</td>\n",
       "    </tr>\n",
       "    <tr>\n",
       "      <th>professor</th>\n",
       "      <td>0.280665</td>\n",
       "      <td>0.280665</td>\n",
       "      <td>blue</td>\n",
       "    </tr>\n",
       "    <tr>\n",
       "      <th>journalist</th>\n",
       "      <td>0.300967</td>\n",
       "      <td>0.300967</td>\n",
       "      <td>blue</td>\n",
       "    </tr>\n",
       "  </tbody>\n",
       "</table>\n",
       "</div>"
      ],
      "text/plain": [
       "             EuroAmer   AfrAmer  bias\n",
       "policewoman  0.136320  0.136320   red\n",
       "flutist      0.214181  0.214181  blue\n",
       "socialite    0.250512  0.250512   red\n",
       "saxophonist  0.262608  0.262608  blue\n",
       "author       0.298017  0.298017  blue\n",
       "director     0.300984  0.300984  blue\n",
       "professor    0.280665  0.280665  blue\n",
       "journalist   0.300967  0.300967  blue"
      ]
     },
     "execution_count": 45,
     "metadata": {},
     "output_type": "execute_result"
    }
   ],
   "source": [
    "scatter = pd.concat([EuroAmer,AfrAmer], axis=1)\n",
    "scatter['bias'] = np.where(scatter.EuroAmer > scatter.AfrAmer, 'blue', 'red')\n",
    "scatter"
   ]
  },
  {
   "cell_type": "code",
   "execution_count": 46,
   "metadata": {},
   "outputs": [
    {
     "data": {
      "image/png": "[encoded data removed]",
      "text/plain": [
       "<Figure size 576x576 with 1 Axes>"
      ]
     },
     "metadata": {
      "needs_background": "light"
     },
     "output_type": "display_data"
    }
   ],
   "source": [
    "x = scatter.EuroAmer\n",
    "y = scatter.AfrAmer\n",
    "\n",
    "plt.figure(figsize=(8,8))\n",
    "plt.scatter(x, y, c=scatter.bias)\n",
    "plt.xlabel(\"EuroAmer\")\n",
    "plt.ylabel(\"AfrAmer\")\n",
    "plt.xlim(0, 0.5)\n",
    "plt.ylim(0, 0.5)\n",
    "plt.axline([0,0],[1,1])\n",
    "\n",
    "for i, txt in enumerate(scatter.index):\n",
    "    plt.annotate(txt, (x[i], y[i]))"
   ]
  },
  {
   "cell_type": "code",
   "execution_count": 47,
   "metadata": {},
   "outputs": [],
   "source": [
    "debiased_pleasant = []\n",
    "\n",
    "for w in pleasant_words:\n",
    "    debiased_pleasant.append(linear_projection(glove[w], vB_racial))"
   ]
  },
  {
   "cell_type": "code",
   "execution_count": 48,
   "metadata": {},
   "outputs": [],
   "source": [
    "debiased_unpleasant = []\n",
    "\n",
    "for w in unpleasant_words:\n",
    "    debiased_unpleasant.append(linear_projection(glove[w], vB_racial))"
   ]
  },
  {
   "cell_type": "code",
   "execution_count": 49,
   "metadata": {},
   "outputs": [
    {
     "data": {
      "text/plain": [
       "0.08318729"
      ]
     },
     "execution_count": 49,
     "metadata": {},
     "output_type": "execute_result"
    }
   ],
   "source": [
    "weat_nscore(glove[EuroAmerNameWords], glove[AfrAmerNameWords], debiased_pleasant, debiased_unpleasant)"
   ]
  },
  {
   "cell_type": "code",
   "execution_count": null,
   "metadata": {},
   "outputs": [],
   "source": []
  }
 ],
 "metadata": {
  "kernelspec": {
   "display_name": "Python 3",
   "language": "python",
   "name": "python3"
  },
  "language_info": {
   "codemirror_mode": {
    "name": "ipython",
    "version": 3
   },
   "file_extension": ".py",
   "mimetype": "text/x-python",
   "name": "python",
   "nbconvert_exporter": "python",
   "pygments_lexer": "ipython3",
   "version": "3.8.5"
  }
 },
 "nbformat": 4,
 "nbformat_minor": 4
}
